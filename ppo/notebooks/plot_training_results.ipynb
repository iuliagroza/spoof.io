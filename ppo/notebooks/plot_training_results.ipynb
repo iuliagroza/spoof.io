{
 "cells": [
  {
   "cell_type": "code",
   "execution_count": 1,
   "metadata": {},
   "outputs": [],
   "source": [
    "from PIL import Image\n",
    "\n",
    "anomaly_scores = Image.open('eval/anomaly_scores.png')\n",
    "cumulative_rewards = Image.open('eval/cumulative_rewards.png')\n",
    "training_loss = Image.open('eval/loss.png')\n",
    "reward_distribution = Image.open('eval/reward_distribution.png')\n",
    "\n",
    "width, height = anomaly_scores.size\n",
    "\n",
    "combined_image = Image.new('RGB', (width * 2, height * 2))\n",
    "\n",
    "combined_image.paste(anomaly_scores, (0, 0))\n",
    "combined_image.paste(cumulative_rewards, (width, 0))\n",
    "combined_image.paste(training_loss, (0, height))\n",
    "combined_image.paste(reward_distribution, (width, height))\n",
    "\n",
    "combined_image.save('eval/training_results.png')\n",
    "combined_image.show()"
   ]
  }
 ],
 "metadata": {
  "kernelspec": {
   "display_name": "spoof",
   "language": "python",
   "name": "python3"
  },
  "language_info": {
   "codemirror_mode": {
    "name": "ipython",
    "version": 3
   },
   "file_extension": ".py",
   "mimetype": "text/x-python",
   "name": "python",
   "nbconvert_exporter": "python",
   "pygments_lexer": "ipython3",
   "version": "3.12.3"
  }
 },
 "nbformat": 4,
 "nbformat_minor": 2
}
