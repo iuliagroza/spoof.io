{
 "cells": [
  {
   "cell_type": "code",
   "execution_count": 4,
   "metadata": {},
   "outputs": [
    {
     "name": "stderr",
     "output_type": "stream",
     "text": [
      "2024-04-29 03:27:43,193 - INFO - Loaded FullChannel data with 1774678 rows and 18 columns.\n",
      "2024-04-29 03:27:43,194 - INFO - Loaded Ticker data with 102805 rows and 15 columns.\n"
     ]
    }
   ],
   "source": [
    "import pandas as pd\n",
    "import logging\n",
    "\n",
    "# Basic logging\n",
    "logging.basicConfig(level=logging.INFO, format='%(asctime)s - %(levelname)s - %(message)s')\n",
    "\n",
    "# Function to load a JSON lines file\n",
    "def load_json(file_path):\n",
    "    try:\n",
    "        return pd.read_json(file_path, lines=True)\n",
    "    except ValueError as e:\n",
    "        logging.error(f\"Failed to load data from {file_path}: {e}\")\n",
    "        return pd.DataFrame() \n",
    "    except Exception as e:\n",
    "        logging.error(f\"An unexpected error occurred: {e}\")\n",
    "        return pd.DataFrame() \n",
    "    \n",
    "# Load data into pandas DataFrames: each list contains three DataFrames (one for each file)\n",
    "full_channel_files = [\"../data/raw/FullChannel_GDAX_20220511_17hr.json\", \"../data/raw/FullChannel_GDAX_20220511_19hr.json\", \"../data/raw/FullChannel_GDAX_20220511_20hr.json\"]\n",
    "ticker_files = [\"../data/raw/Ticker_GDAX_20220511_17hr.json\", \"../data/raw/Ticker_GDAX_20220511_19hr.json\", \"../data/raw/Ticker_GDAX_20220511_20hr.json\"]\n",
    "\n",
    "full_channel_data = [load_json(file) for file in full_channel_files]\n",
    "ticker_data = [load_json(file) for file in ticker_files]\n",
    "\n",
    "if any(df.empty for df in full_channel_data + ticker_data):\n",
    "    logging.warning(\"One or more files failed to load, check logs for details.\")\n",
    "\n",
    "# Concatenate data\n",
    "combined_full_channel = pd.concat(full_channel_data, ignore_index=True) if full_channel_data else pd.DataFrame()\n",
    "combined_ticker = pd.concat(ticker_data, ignore_index=True) if ticker_data else pd.DataFrame()\n",
    "\n",
    "if not combined_full_channel.empty:\n",
    "    logging.info(f\"Loaded FullChannel data with {combined_full_channel.shape[0]} rows and {combined_full_channel.shape[1]} columns.\")\n",
    "if not combined_ticker.empty:\n",
    "    logging.info(f\"Loaded Ticker data with {combined_ticker.shape[0]} rows and {combined_ticker.shape[1]} columns.\")"
   ]
  },
  {
   "cell_type": "code",
   "execution_count": 5,
   "metadata": {},
   "outputs": [
    {
     "name": "stdout",
     "output_type": "stream",
     "text": [
      "                                     order_id order_type      size  price  \\\n",
      "0        04074a2a-ff4d-40f8-a921-d88ece5d1562      limit   281.146   2.06   \n",
      "1        04074a2a-ff4d-40f8-a921-d88ece5d1562        NaN       NaN   2.06   \n",
      "2        0299ed2d-d33d-4313-a1d4-b74ce9cc9f26      limit  2324.238   2.33   \n",
      "3                                         NaN        NaN   374.806   2.33   \n",
      "4        474813db-2329-4aba-a07b-b1adea78da8f        NaN       NaN   2.33   \n",
      "...                                       ...        ...       ...    ...   \n",
      "1774673  7478edba-b1fd-4ea0-934e-dfd8cb3107fa        NaN       NaN   1.13   \n",
      "1774674  44b6917b-b419-4310-a6a1-86d80b797c0e      limit    56.833   1.25   \n",
      "1774675  44b6917b-b419-4310-a6a1-86d80b797c0e        NaN       NaN   1.25   \n",
      "1774676  d4e32f4a-c08b-459c-a19f-5c750a8e1894      limit    20.000   1.15   \n",
      "1774677  d4e32f4a-c08b-459c-a19f-5c750a8e1894        NaN       NaN   1.15   \n",
      "\n",
      "                                   client_oid      type  side product_id  \\\n",
      "0        0278c289-d977-44e0-9b3a-ff4e82b8dda5  received   buy  WLUNA-USD   \n",
      "1                                         NaN      open   buy  WLUNA-USD   \n",
      "2        b1f276a7-e271-4c82-9fa7-a55451507f82  received  sell  WLUNA-USD   \n",
      "3                                         NaN     match   buy  WLUNA-USD   \n",
      "4                                         NaN      done   buy  WLUNA-USD   \n",
      "...                                       ...       ...   ...        ...   \n",
      "1774673                                   NaN      open   buy  WLUNA-USD   \n",
      "1774674  52d05297-a35f-45fb-a064-d9772f33282c  received   buy  WLUNA-USD   \n",
      "1774675                                   NaN      open   buy  WLUNA-USD   \n",
      "1774676  10924670-6027-0389-0000-000014440701  received   buy  WLUNA-USD   \n",
      "1774677                                   NaN      open   buy  WLUNA-USD   \n",
      "\n",
      "                                time    sequence  remaining_size   trade_id  \\\n",
      "0        2022-05-11T15:59:00.796073Z  1292598749             NaN        NaN   \n",
      "1        2022-05-11T15:59:00.796073Z  1292598750         281.146        NaN   \n",
      "2        2022-05-11T15:59:00.813739Z  1292598751             NaN        NaN   \n",
      "3        2022-05-11T15:59:00.813739Z  1292598752             NaN  7884080.0   \n",
      "4        2022-05-11T15:59:00.813739Z  1292598753           0.000        NaN   \n",
      "...                              ...         ...             ...        ...   \n",
      "1774673  2022-05-11T19:59:04.479179Z  1294989495         656.669        NaN   \n",
      "1774674  2022-05-11T19:59:04.480157Z  1294989496             NaN        NaN   \n",
      "1774675  2022-05-11T19:59:04.480157Z  1294989497          56.833        NaN   \n",
      "1774676  2022-05-11T19:59:04.515900Z  1294989498             NaN        NaN   \n",
      "1774677  2022-05-11T19:59:04.515900Z  1294989499          20.000        NaN   \n",
      "\n",
      "                               maker_order_id  \\\n",
      "0                                         NaN   \n",
      "1                                         NaN   \n",
      "2                                         NaN   \n",
      "3        474813db-2329-4aba-a07b-b1adea78da8f   \n",
      "4                                         NaN   \n",
      "...                                       ...   \n",
      "1774673                                   NaN   \n",
      "1774674                                   NaN   \n",
      "1774675                                   NaN   \n",
      "1774676                                   NaN   \n",
      "1774677                                   NaN   \n",
      "\n",
      "                               taker_order_id  reason  funds  old_size  \\\n",
      "0                                         NaN     NaN    NaN       NaN   \n",
      "1                                         NaN     NaN    NaN       NaN   \n",
      "2                                         NaN     NaN    NaN       NaN   \n",
      "3        0299ed2d-d33d-4313-a1d4-b74ce9cc9f26     NaN    NaN       NaN   \n",
      "4                                         NaN  filled    NaN       NaN   \n",
      "...                                       ...     ...    ...       ...   \n",
      "1774673                                   NaN     NaN    NaN       NaN   \n",
      "1774674                                   NaN     NaN    NaN       NaN   \n",
      "1774675                                   NaN     NaN    NaN       NaN   \n",
      "1774676                                   NaN     NaN    NaN       NaN   \n",
      "1774677                                   NaN     NaN    NaN       NaN   \n",
      "\n",
      "         new_size  \n",
      "0             NaN  \n",
      "1             NaN  \n",
      "2             NaN  \n",
      "3             NaN  \n",
      "4             NaN  \n",
      "...           ...  \n",
      "1774673       NaN  \n",
      "1774674       NaN  \n",
      "1774675       NaN  \n",
      "1774676       NaN  \n",
      "1774677       NaN  \n",
      "\n",
      "[1774678 rows x 18 columns]\n"
     ]
    }
   ],
   "source": [
    "print(combined_full_channel)"
   ]
  },
  {
   "cell_type": "code",
   "execution_count": 6,
   "metadata": {},
   "outputs": [
    {
     "name": "stdout",
     "output_type": "stream",
     "text": [
      "          type    sequence product_id  price  open_24h    volume_24h  low_24h  \\\n",
      "0       ticker  1292614427  WLUNA-USD   2.42     31.40  3.773185e+07     0.95   \n",
      "1       ticker  1292614429  WLUNA-USD   2.42     31.40  3.773188e+07     0.95   \n",
      "2       ticker  1292614431  WLUNA-USD   2.42     31.40  3.773190e+07     0.95   \n",
      "3       ticker  1292614433  WLUNA-USD   2.42     31.40  3.773217e+07     0.95   \n",
      "4       ticker  1292614468  WLUNA-USD   2.44     31.40  3.773217e+07     0.95   \n",
      "...        ...         ...        ...    ...       ...           ...      ...   \n",
      "102800  ticker  1294996328  WLUNA-USD   1.26     24.85  6.043075e+07     0.95   \n",
      "102801  ticker  1294996345  WLUNA-USD   1.26     24.85  6.043076e+07     0.95   \n",
      "102802  ticker  1294996347  WLUNA-USD   1.26     24.85  6.043076e+07     0.95   \n",
      "102803  ticker  1294996349  WLUNA-USD   1.27     24.85  6.043078e+07     0.95   \n",
      "102804  ticker  1294996441  WLUNA-USD   1.27     24.85  6.043078e+07     0.95   \n",
      "\n",
      "        high_24h    volume_30d  best_bid  best_ask  side  \\\n",
      "0          32.70  5.215304e+07      2.42      2.44  sell   \n",
      "1          32.70  5.215306e+07      2.42      2.44  sell   \n",
      "2          32.70  5.215308e+07      2.42      2.44  sell   \n",
      "3          32.70  5.215335e+07      2.42      2.44  sell   \n",
      "4          32.70  5.215335e+07      2.42      2.44   buy   \n",
      "...          ...           ...       ...       ...   ...   \n",
      "102800     25.16  7.627912e+07      1.25      1.26   buy   \n",
      "102801     25.16  7.627913e+07      1.25      1.26   buy   \n",
      "102802     25.16  7.627913e+07      1.25      1.27   buy   \n",
      "102803     25.16  7.627915e+07      1.25      1.27   buy   \n",
      "102804     25.16  7.627915e+07      1.25      1.27   buy   \n",
      "\n",
      "                               time  trade_id  last_size  \n",
      "0       2022-05-11T15:59:59.959016Z   7884870     11.525  \n",
      "1       2022-05-11T15:59:59.959016Z   7884871     28.646  \n",
      "2       2022-05-11T15:59:59.959016Z   7884872     14.000  \n",
      "3       2022-05-11T15:59:59.959016Z   7884873    274.088  \n",
      "4       2022-05-11T16:00:00.215969Z   7884874      1.100  \n",
      "...                             ...       ...        ...  \n",
      "102800  2022-05-11T19:59:59.776905Z   8023185     27.459  \n",
      "102801  2022-05-11T19:59:59.808741Z   8023186      7.182  \n",
      "102802  2022-05-11T19:59:59.808741Z   8023187      2.426  \n",
      "102803  2022-05-11T19:59:59.808741Z   8023188     20.590  \n",
      "102804  2022-05-11T19:59:59.908719Z   8023189      1.813  \n",
      "\n",
      "[102805 rows x 15 columns]\n"
     ]
    }
   ],
   "source": [
    "print(combined_ticker)"
   ]
  },
  {
   "cell_type": "code",
   "execution_count": 7,
   "metadata": {},
   "outputs": [],
   "source": [
    "# Save the combined data frames\n",
    "combined_full_channel.to_csv(\"../data/raw/full_channel.csv\", index=False)\n",
    "combined_ticker.to_csv(\"../data/raw/ticker.csv\", index=False)"
   ]
  }
 ],
 "metadata": {
  "kernelspec": {
   "display_name": "spoof",
   "language": "python",
   "name": "python3"
  },
  "language_info": {
   "codemirror_mode": {
    "name": "ipython",
    "version": 3
   },
   "file_extension": ".py",
   "mimetype": "text/x-python",
   "name": "python",
   "nbconvert_exporter": "python",
   "pygments_lexer": "ipython3",
   "version": "3.12.3"
  }
 },
 "nbformat": 4,
 "nbformat_minor": 2
}
